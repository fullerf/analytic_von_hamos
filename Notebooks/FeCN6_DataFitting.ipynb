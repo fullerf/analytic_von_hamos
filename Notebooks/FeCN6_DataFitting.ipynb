{
 "cells": [
  {
   "cell_type": "code",
   "execution_count": 2,
   "id": "phantom-myanmar",
   "metadata": {},
   "outputs": [],
   "source": [
    "import numpy as np\n",
    "from matplotlib.pyplot import *\n",
    "import h5py\n",
    "sys.path.append('/home/fdfuller/work/analytic_von_hamos/') \n",
    "from analytic_von_hamos.raytracing import *\n",
    "import gpflow\n",
    "import tensorflow as tf\n",
    "from analytic_von_hamos.data_extraction import get_peaks_and_intensity as pk\n",
    "import tensorflow_probability as tfp\n",
    "tfd = tfp.distributions\n",
    "from IPython.display import Image, HTML, clear_output\n",
    "tfb = tfp.bijectors\n",
    "import imageio\n",
    "import os\n",
    "import pickle\n",
    "%matplotlib inline"
   ]
  },
  {
   "cell_type": "code",
   "execution_count": 4,
   "id": "miniature-algebra",
   "metadata": {},
   "outputs": [],
   "source": [
    "with h5py.File('../Data/ferro_cyanide_7195.h5','r') as fid:\n",
    "    imgs = np.array(fid['imgs'])\n",
    "img_ferro_cn6 = np.mean(imgs,axis=0)\n",
    "img = img_ferro_cn6"
   ]
  },
  {
   "cell_type": "code",
   "execution_count": 5,
   "id": "tired-michigan",
   "metadata": {},
   "outputs": [
    {
     "data": {
      "image/png": "[encoded data removed]",
      "text/plain": [
       "<Figure size 432x288 with 1 Axes>"
      ]
     },
     "metadata": {
      "needs_background": "light"
     },
     "output_type": "display_data"
    }
   ],
   "source": [
    "figure()\n",
    "imshow(np.log(np.clip(img, a_min=0.1, a_max=20)),cmap='magma')\n",
    "xlabel('pixel')\n",
    "ylabel('pixel')\n",
    "ax = gca()\n",
    "ax.set_aspect(1.0)\n",
    "xticks(rotation=90)\n",
    "ax.invert_yaxis()\n",
    "savefig('experimental_intensity.pdf')"
   ]
  },
  {
   "cell_type": "code",
   "execution_count": 6,
   "id": "desperate-trash",
   "metadata": {},
   "outputs": [],
   "source": [
    "p = pk.reduce_to_peaks_with_intensities(img, slice(80,800), slice(70,170), width=[25, 100])\n",
    "p0,p2,p1 = pk.partition_peaks_with_intensities(p,3)\n",
    "ka1_manifold = np.fliplr(p0[:2,:].T)\n",
    "ka2_manifold = np.fliplr(p1[:2,:].T)\n",
    "sat_manifold = np.fliplr(p2[:2,:].T)"
   ]
  },
  {
   "cell_type": "code",
   "execution_count": 8,
   "id": "operating-graphics",
   "metadata": {},
   "outputs": [
    {
     "data": {
      "image/png": "[encoded data removed]",
      "text/plain": [
       "<Figure size 432x288 with 1 Axes>"
      ]
     },
     "metadata": {
      "needs_background": "light"
     },
     "output_type": "display_data"
    }
   ],
   "source": [
    "figure()\n",
    "ax = subplot(111)\n",
    "\n",
    "# ax.scatter(p[1,:], p[0,:],marker='+',color='black',label='all')\n",
    "ax.scatter(ka1_manifold[:,0], ka1_manifold[:,1],marker='.',color='k',label='ka1')\n",
    "ax.scatter(ka2_manifold[:,0], ka2_manifold[:,1],marker='.',color='b',label='ka2')\n",
    "ax.scatter(sat_manifold[:,0], sat_manifold[:,1],marker='.',color='purple',label='satellite')\n",
    "legend()\n",
    "ax.set_aspect(1.0)\n",
    "xticks(rotation=90)\n",
    "xlim([0,500])\n",
    "xlabel('pixel')\n",
    "ylabel('pixel')\n",
    "savefig('peak_reduced_data.pdf')"
   ]
  },
  {
   "cell_type": "code",
   "execution_count": 9,
   "id": "parental-louisville",
   "metadata": {},
   "outputs": [],
   "source": [
    "def change_of_basis(t,u,v):\n",
    "    if t.ndim == 1:\n",
    "        t = t[:,None]\n",
    "    if u.ndim == 1:\n",
    "        u = u[:,None]\n",
    "    if v.ndim == 1:\n",
    "        v = v[:,None]\n",
    "    tuv = np.concatenate([np.atleast_2d(t),np.atleast_2d(u),np.atleast_2d(v)],-1)\n",
    "    row_1 = tuv\n",
    "    row_2 = -np.cross(tuv,np.cross((1,0,0), (0,1,0))[None,:])\n",
    "    row_3 = np.cross(tuv, np.array((0,1,0))[None,:])\n",
    "    T = np.concatenate([row_1[:,None,:], row_2[:,None,:], row_3[:,None,:]],1)\n",
    "    return np.linalg.inv(T)\n",
    "\n",
    "def initial_guesses_for_experimental_geometry(N: int):\n",
    "    grand = lambda x0, xu: np.random.uniform(low=x0-xu/2, high=x0+xu/2, size=(N,))\n",
    "    f = 125\n",
    "#     c0 = 39.36\n",
    "    c0 = 39\n",
    "    a0 = 151.21\n",
    "    b0 = 0.\n",
    "    d0 = (5/4)*f\n",
    "    d_uncertainty = 15\n",
    "    a_uncertainty = 15\n",
    "    b_uncertainty = 15\n",
    "    c_uncertainty = 15\n",
    "    \n",
    "    \n",
    "    def ac_from_dc():\n",
    "        d = grand(d0,d_uncertainty)\n",
    "        c = grand(c0,c_uncertainty)\n",
    "        return np.sqrt(d**2 - c**2), c\n",
    "    a,c = ac_from_dc()\n",
    "    b = grand(b0,b_uncertainty)\n",
    "    \n",
    "    p0 = 352.1\n",
    "    q0 = 0.0\n",
    "#     r0 = 157.46+60\n",
    "    r0 = 157.46+59\n",
    "    q_uncertainty = 10\n",
    "    r_uncertainty = 10\n",
    "    \n",
    "    dd0 = 700\n",
    "    dd_uncertainty = 30\n",
    "    p_uncertainty = 20\n",
    "    \n",
    "    def pr_from_ddr():\n",
    "        dd = grand(dd0,dd_uncertainty)\n",
    "        r = grand(r0,r_uncertainty)\n",
    "        return np.sqrt(dd**2 - r**2), r\n",
    "    \n",
    "    p, r = pr_from_ddr()\n",
    "    q = grand(q0, q_uncertainty)\n",
    "    \n",
    "    t0 = 1\n",
    "    u0 = 0\n",
    "    v0 = 0\n",
    "    t_uncertainty = 0.005\n",
    "    u_uncertainty = 0.005\n",
    "    v_uncertainty = 0.005\n",
    "    \n",
    "    t = grand(t0,t_uncertainty)\n",
    "    u = grand(u0,u_uncertainty)\n",
    "    v = grand(v0,v_uncertainty)\n",
    "    T = change_of_basis(t,u,v)\n",
    "    \n",
    "    pqr = np.concatenate([p[:,None],q[:,None],r[:,None]],-1)\n",
    "    pqr_prime = np.einsum('ijk,ik->ij',T,pqr)\n",
    "    \n",
    "    pp = pqr_prime[:,0]\n",
    "    qp = pqr_prime[:,1]\n",
    "    rp = pqr_prime[:,2]\n",
    "    return {'a': a, 'b': b, 'c': c, 'p': p, 'q': q, 'r': r, 't': t, 'u': u, 'v': v}\n",
    "    "
   ]
  },
  {
   "cell_type": "code",
   "execution_count": 17,
   "id": "cardiac-generation",
   "metadata": {},
   "outputs": [],
   "source": [
    "# handtuned_init = {\n",
    "#     'energy1': 6405.84, #eV (near Fe K alpha energy),\n",
    "#     'energy2': 6392.1+0.75, #eV (near Fe K alpha energy),\n",
    "#     \"a0\": 156.0 ,\n",
    "#     \"b0\": -0.04 ,\n",
    "#     \"c0\": 20.0 ,\n",
    "#     \"p0\": 661.0 ,\n",
    "#     \"q0\": -6.0 ,\n",
    "#     \"r0\": 210.0 ,\n",
    "#     \"t0\": 4.501 ,\n",
    "#     \"u0\": 0.0 ,\n",
    "#     \"v0\": 0.0 ,\n",
    "# }"
   ]
  },
  {
   "cell_type": "code",
   "execution_count": null,
   "id": "steady-loading",
   "metadata": {},
   "outputs": [],
   "source": [
    "initial_guess = initial_guesses_for_experimental_geometry(250)\n",
    "m = TwoLineFit(ka1_manifold, ka2_manifold, **{**initial_guesses_for_experimental_geometry(250),\n",
    "                                              'radius': 250,\n",
    "                                              'energy1': 6402.468117602138,\n",
    "                                              'energy2': 6389.69033982436,\n",
    "                                              'theta_max': np.pi/5,\n",
    "                                              'theta_min': -np.pi/5,\n",
    "                                              'xtal': CrystalGe(4,4,0)\n",
    "                                             })\n",
    "\n",
    "\n",
    "opt_i0 = tf.argmin(m._individual_training_losses())\n",
    "opt_loss0 = m._individual_training_losses()[opt_i0]\n",
    "p0 = m.get_params(opt_i0)\n",
    "print('initial best guess loss: ', opt_loss0)\n",
    "\n",
    "def plot_loss(loss_log, best_loss_log):\n",
    "    figure(figsize=(10, 4))\n",
    "    title('Loss history')\n",
    "    semilogy(loss_log, 'k-.',alpha=0.3)\n",
    "    figure(figsize=(10, 4))\n",
    "    title('Best Loss history')\n",
    "    semilogy(best_loss_log, 'r-.',alpha=0.9)\n",
    "    show()\n",
    "    \n",
    "lr = 1E-2\n",
    "# lr_sched = tf.keras.optimizers.schedules.PiecewiseConstantDecay(\n",
    "#     [1000, 2000, 3000, 4000, 5000], [lr, lr*0.5, lr*(0.5**2), lr*(0.5**3), lr*(0.5**4), lr*(0.5**5)])\n",
    "lr_sched = tf.keras.experimental.CosineDecayRestarts(lr, 1000, alpha=0.1, m_mul=0.9, t_mul=1.0)\n",
    "trainer = tf.keras.optimizers.Adam(lr_sched)\n",
    "\n",
    "@tf.function\n",
    "def train_step():\n",
    "    with tf.GradientTape() as g:\n",
    "        loss = m.training_loss()\n",
    "    grads = g.gradient(loss, m.trainable_variables)\n",
    "#     grads = [g/(tf.norm(g)+1e-8) for g in grads]\n",
    "    trainer.apply_gradients(zip(grads, m.trainable_variables))\n",
    "    return loss\n",
    "\n",
    "loss_log = []\n",
    "best_loss_log = []\n",
    "prediction_log = []\n",
    "M = 100\n",
    "for i in range(16000):\n",
    "    loss = train_step()\n",
    "    loss_log.append(loss.numpy())\n",
    "    step_i = len(loss_log)\n",
    "    if step_i%10 == 0:\n",
    "        prediction_log.append(m.raytracing_slice(m.energy1, 20))\n",
    "    if step_i%100 == 0:\n",
    "        clear_output()\n",
    "        indiv_losses = m._individual_training_losses()\n",
    "        best_loss_ind = tf.argmin(indiv_losses)\n",
    "        best_loss_log.append(indiv_losses[best_loss_ind].numpy().item())\n",
    "        plot_loss(loss_log, best_loss_log)\n",
    "    if step_i%150 == 0:\n",
    "        # prune the bad ones\n",
    "        s = tf.argsort(m._individual_training_losses()).numpy()\n",
    "        # replace bad ones with scrambled versions of the top 20 particles\n",
    "        ap = np.concatenate([m.a.numpy()[s[:-M]], m.a.numpy()[s[np.random.choice(M,M)]]],0)\n",
    "        bp = np.concatenate([m.b.numpy()[s[:-M]], m.b.numpy()[s[np.random.choice(M,M)]]],0)\n",
    "        cp = np.concatenate([m.c.numpy()[s[:-M]], m.c.numpy()[s[np.random.choice(M,M)]]],0)\n",
    "        pp = np.concatenate([m.p.numpy()[s[:-M]], m.p.numpy()[s[np.random.choice(M,M)]]],0)\n",
    "        qp = np.concatenate([m.q.numpy()[s[:-M]], m.q.numpy()[s[np.random.choice(M,M)]]],0)\n",
    "        rp = np.concatenate([m.r.numpy()[s[:-M]], m.r.numpy()[s[np.random.choice(M,M)]]],0)\n",
    "        tp = np.concatenate([m.t.numpy()[s[:-M]], m.t.numpy()[s[np.random.choice(M,M)]]],0)\n",
    "        up = np.concatenate([m.u.numpy()[s[:-M]], m.u.numpy()[s[np.random.choice(M,M)]]],0)\n",
    "        vp = np.concatenate([m.v.numpy()[s[:-M]], m.v.numpy()[s[np.random.choice(M,M)]]],0)\n",
    "        m.a.assign(ap)\n",
    "        m.b.assign(bp)\n",
    "        m.c.assign(cp)\n",
    "        m.p.assign(pp)\n",
    "        m.q.assign(qp)\n",
    "        m.r.assign(rp)\n",
    "        m.t.assign(tp)\n",
    "        m.u.assign(up)\n",
    "        m.v.assign(vp)\n",
    "    print('\\r step: %d, loss: %.3f'%(len(loss_log), loss), end='')"
   ]
  },
  {
   "cell_type": "code",
   "execution_count": 16,
   "id": "alternative-color",
   "metadata": {},
   "outputs": [
    {
     "data": {
      "text/plain": [
       "[<matplotlib.lines.Line2D at 0x7fbcded7a7f0>]"
      ]
     },
     "execution_count": 16,
     "metadata": {},
     "output_type": "execute_result"
    },
    {
     "data": {
      "image/png": "[encoded data removed]",
      "text/plain": [
       "<Figure size 432x288 with 1 Axes>"
      ]
     },
     "metadata": {
      "needs_background": "light"
     },
     "output_type": "display_data"
    }
   ],
   "source": [
    "figure()\n",
    "semilogy(best_loss_log[50:])"
   ]
  },
  {
   "cell_type": "code",
   "execution_count": 9,
   "id": "detected-manner",
   "metadata": {},
   "outputs": [],
   "source": [
    "opt_i = tf.argmin(m._individual_training_losses())"
   ]
  },
  {
   "cell_type": "code",
   "execution_count": 10,
   "id": "delayed-leader",
   "metadata": {},
   "outputs": [
    {
     "data": {
      "text/plain": [
       "<tf.Tensor: shape=(), dtype=float64, numpy=1.0496737990022877>"
      ]
     },
     "execution_count": 10,
     "metadata": {},
     "output_type": "execute_result"
    }
   ],
   "source": [
    "m._individual_training_losses()[opt_i]"
   ]
  },
  {
   "cell_type": "code",
   "execution_count": 47,
   "id": "administrative-robert",
   "metadata": {},
   "outputs": [
    {
     "data": {
      "image/png": "[encoded data removed]",
      "text/plain": [
       "<Figure size 432x432 with 1 Axes>"
      ]
     },
     "metadata": {
      "needs_background": "light"
     },
     "output_type": "display_data"
    }
   ],
   "source": [
    "figure(figsize=(6,6))\n",
    "k = 147\n",
    "fit_line1 = m.raytracing_pts(6402.468117602138)*m.mm_to_pixels\n",
    "fit_line2 = m.raytracing_pts(6389.69033982436)*m.mm_to_pixels\n",
    "fit_line3 = m.raytracing_pts(6430)*m.mm_to_pixels\n",
    "plot(fit_line1[opt_i,:,0].numpy().T,fit_line1[opt_i,:,1].numpy().T,'r',label='Ka1 optimized');\n",
    "plot(fit_line2[opt_i,:,0].numpy().T,fit_line2[opt_i,:,1].numpy().T,'b',label='Ka2 optimized');\n",
    "plot(fit_line3[opt_i,:,0].numpy().T,fit_line3[opt_i,:,1].numpy().T,'g',label='2p Satellite');\n",
    "scatter(ka1_manifold[:,0],ka1_manifold[:,1],marker='.',c='k',alpha=0.3, label='experimental data')\n",
    "scatter(ka2_manifold[:,0],ka2_manifold[:,1],marker='.',c='k',alpha=0.3)\n",
    "scatter(sat_manifold[:,0],sat_manifold[:,1],marker='.',c='k',alpha=0.3)\n",
    "xlabel('Y (pixel)')\n",
    "ylabel('Z (pixel)')\n",
    "ax = gca()\n",
    "ax.set_aspect(0.2)\n",
    "legend(loc=0)\n",
    "xlim([50,200])\n",
    "ylim([50,1100])\n",
    "savefig('optimized_fit_to_exp.pdf')"
   ]
  },
  {
   "cell_type": "code",
   "execution_count": 20,
   "id": "minute-diabetes",
   "metadata": {},
   "outputs": [],
   "source": [
    "import imageio\n",
    "import os"
   ]
  },
  {
   "cell_type": "code",
   "execution_count": null,
   "id": "compliant-premiere",
   "metadata": {},
   "outputs": [],
   "source": []
  },
  {
   "cell_type": "code",
   "execution_count": 48,
   "id": "plain-steering",
   "metadata": {},
   "outputs": [],
   "source": [
    "preds = tf.stack([p[:,:540,:] for p in prediction_log],0)\n",
    "filenames = []\n",
    "figure()\n",
    "for k in range(len(prediction_log)):\n",
    "    plot(preds[k,0,:,0]*20,preds[k,0,:,1]*20,'r-')\n",
    "    scatter(ka1_manifold[:,0],ka1_manifold[:,1],marker='.')\n",
    "    plot(preds[k,1,:,0]*20,preds[k,1,:,1]*20,'k-', alpha=0.1)\n",
    "    plot(preds[k,2,:,0]*20,preds[k,2,:,1]*20,'k-', alpha=0.1)\n",
    "    plot(preds[k,3,:,0]*20,preds[k,3,:,1]*20,'k-', alpha=0.1)\n",
    "    plot(preds[k,4,:,0]*20,preds[k,4,:,1]*20,'k-', alpha=0.1)\n",
    "    plot(preds[k,5,:,0]*20,preds[k,5,:,1]*20,'k-', alpha=0.1)\n",
    "    plot(preds[k,6,:,0]*20,preds[k,6,:,1]*20,'k-', alpha=0.1)\n",
    "    plot(preds[k,7,:,0]*20,preds[k,7,:,1]*20,'k-', alpha=0.1)\n",
    "    plot(preds[k,8,:,0]*20,preds[k,8,:,1]*20,'k-', alpha=0.05)\n",
    "    plot(preds[k,9,:,0]*20,preds[k,9,:,1]*20,'k-', alpha=0.05)\n",
    "    plot(preds[k,10,:,0]*20,preds[k,10,:,1]*20,'k-', alpha=0.05)\n",
    "    plot(preds[k,11,:,0]*20,preds[k,11,:,1]*20,'k-', alpha=0.05)\n",
    "    plot(preds[k,12,:,0]*20,preds[k,12,:,1]*20,'k-', alpha=0.05)\n",
    "    plot(preds[k,13,:,0]*20,preds[k,13,:,1]*20,'k-', alpha=0.05)\n",
    "    plot(preds[k,14,:,0]*20,preds[k,14,:,1]*20,'k-', alpha=0.01)\n",
    "    plot(preds[k,15,:,0]*20,preds[k,15,:,1]*20,'k-', alpha=0.01)\n",
    "    plot(preds[k,16,:,0]*20,preds[k,16,:,1]*20,'k-', alpha=0.01)\n",
    "    plot(preds[k,17,:,0]*20,preds[k,17,:,1]*20,'k-', alpha=0.01)\n",
    "    plot(preds[k,18,:,0]*20,preds[k,18,:,1]*20,'k-', alpha=0.01)\n",
    "    plot(preds[k,19,:,0]*20,preds[k,19,:,1]*20,'k-', alpha=0.01)\n",
    "    xlim([50,250])\n",
    "    ylim([50,550])\n",
    "    ax = gca()\n",
    "    ax.set_aspect(3/4)\n",
    "    xlabel('Y (pixel)')\n",
    "    ylabel('Z (pixel)')\n",
    "    \n",
    "    # create file name and append it to a list\n",
    "    filename = f'{k}.png'\n",
    "    filenames.append(filename)\n",
    "    \n",
    "    # save frame\n",
    "    savefig(filename)\n",
    "    close()# build gif"
   ]
  },
  {
   "cell_type": "code",
   "execution_count": 49,
   "id": "prostate-merit",
   "metadata": {},
   "outputs": [],
   "source": [
    "with imageio.get_writer('optimization_experimental4.gif', mode='I') as writer:\n",
    "    for filename in filenames:\n",
    "        image = imageio.imread(filename)\n",
    "        writer.append_data(image)\n",
    "        \n",
    "# Remove files\n",
    "for filename in set(filenames):\n",
    "    os.remove(filename)"
   ]
  },
  {
   "cell_type": "code",
   "execution_count": 50,
   "id": "descending-messaging",
   "metadata": {},
   "outputs": [
    {
     "data": {
      "text/plain": [
       "({'a': 155.35938647157317,\n",
       "  'b': -2.190018653810878,\n",
       "  'c': 32.29479458474249,\n",
       "  'p': 669.8893432529293,\n",
       "  'q': 3.986599133053362,\n",
       "  'r': 222.21858762191354,\n",
       "  't': 1.6395859626238676,\n",
       "  'u': -0.3025341581582192,\n",
       "  'v': 0.27823045148882775,\n",
       "  'energy': <tf.Tensor: shape=(), dtype=float64, numpy=6402.468117602138>,\n",
       "  'radius': 250,\n",
       "  'theta_min': -0.6283185307179586,\n",
       "  'theta_max': 0.6283185307179586,\n",
       "  'mm_to_pixels': 20},\n",
       " {'a': 155.35938647157317,\n",
       "  'b': -2.190018653810878,\n",
       "  'c': 32.29479458474249,\n",
       "  'p': 669.8893432529293,\n",
       "  'q': 3.986599133053362,\n",
       "  'r': 222.21858762191354,\n",
       "  't': 1.6395859626238676,\n",
       "  'u': -0.3025341581582192,\n",
       "  'v': 0.27823045148882775,\n",
       "  'energy': <tf.Tensor: shape=(), dtype=float64, numpy=6389.69033982436>,\n",
       "  'radius': 250,\n",
       "  'theta_min': -0.6283185307179586,\n",
       "  'theta_max': 0.6283185307179586,\n",
       "  'mm_to_pixels': 20})"
      ]
     },
     "execution_count": 50,
     "metadata": {},
     "output_type": "execute_result"
    }
   ],
   "source": [
    "m.get_params(opt_i)"
   ]
  },
  {
   "cell_type": "code",
   "execution_count": null,
   "id": "administrative-straight",
   "metadata": {},
   "outputs": [],
   "source": []
  }
 ],
 "metadata": {
  "kernelspec": {
   "display_name": "Python 3",
   "language": "python",
   "name": "python3"
  },
  "language_info": {
   "codemirror_mode": {
    "name": "ipython",
    "version": 3
   },
   "file_extension": ".py",
   "mimetype": "text/x-python",
   "name": "python",
   "nbconvert_exporter": "python",
   "pygments_lexer": "ipython3",
   "version": "3.6.12"
  }
 },
 "nbformat": 4,
 "nbformat_minor": 5
}
